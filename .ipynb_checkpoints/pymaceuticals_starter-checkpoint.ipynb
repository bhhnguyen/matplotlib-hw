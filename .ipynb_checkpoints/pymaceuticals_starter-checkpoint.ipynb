{
 "cells": [
  {
   "cell_type": "markdown",
   "metadata": {},
   "source": [
    "## Observations and Insights"
   ]
  },
  {
   "cell_type": "markdown",
   "metadata": {},
   "source": [
    "Three trends:\n",
    "\n",
    "1. Average tumor volume does correlate positively with mouse weight. This make sense, a heavier or larger mouse should expect to have a larger tumor. We only observed this trend within mice with Capomulin treatment. Perhaps being larger also makes the effects of Capomulin weaker too. The correlation coefficient for the Capomulin is 0.84, which is decent.\n",
    "\n",
    "2. Tumor volume decreases over time wth capomulin treatment. This can be observed in the line graph. We witnessed this trend graphed for a single mouse, but this is generally true for all mice on the Capomulin regimen. This simply means that Capomulin is effective at reducing tumors.\n",
    "\n",
    "3. There was only one outlier datapoint among the top four regimens. This means that the results among almost all the mice tended to be quite consistent with each other. The one Infubinol outlier looked pretty consistent with Capomulin or Ramicane results based on the box plot. I'd be curious to see if this result was tagged incorrectly and actually belonged to one of those regimens, but it looks like Infubinol happened to be as effective as the top two in this case."
   ]
  },
  {
   "cell_type": "markdown",
   "metadata": {},
   "source": [
    "## Dependencies and starter code"
   ]
  },
  {
   "cell_type": "code",
   "execution_count": 17,
   "metadata": {},
   "outputs": [],
   "source": [
    "# Dependencies and Setup\n",
    "import matplotlib.pyplot as plt\n",
    "import pandas as pd\n",
    "import scipy.stats as st\n",
    "import numpy as np\n",
    "\n",
    "# Study data files\n",
    "mouse_metadata = \"data/Mouse_metadata.csv\"\n",
    "study_results = \"data/Study_results.csv\"\n",
    "\n",
    "# Read the mouse data and the study results\n",
    "mouse_metadata = pd.read_csv(mouse_metadata)\n",
    "study_results = pd.read_csv(study_results)\n",
    "\n",
    "# Combine the data into a single dataset"
   ]
  },
  {
   "cell_type": "markdown",
   "metadata": {},
   "source": [
    "## Summary statistics"
   ]
  },
  {
   "cell_type": "code",
   "execution_count": 103,
   "metadata": {},
   "outputs": [
    {
     "data": {
      "text/html": [
       "<div>\n",
       "<style scoped>\n",
       "    .dataframe tbody tr th:only-of-type {\n",
       "        vertical-align: middle;\n",
       "    }\n",
       "\n",
       "    .dataframe tbody tr th {\n",
       "        vertical-align: top;\n",
       "    }\n",
       "\n",
       "    .dataframe thead th {\n",
       "        text-align: right;\n",
       "    }\n",
       "</style>\n",
       "<table border=\"1\" class=\"dataframe\">\n",
       "  <thead>\n",
       "    <tr style=\"text-align: right;\">\n",
       "      <th></th>\n",
       "      <th>Mouse ID</th>\n",
       "      <th>Drug Regimen</th>\n",
       "      <th>Sex</th>\n",
       "      <th>Age_months</th>\n",
       "      <th>Weight (g)</th>\n",
       "      <th>Timepoint</th>\n",
       "      <th>Tumor Volume (mm3)</th>\n",
       "      <th>Metastatic Sites</th>\n",
       "    </tr>\n",
       "  </thead>\n",
       "  <tbody>\n",
       "    <tr>\n",
       "      <th>0</th>\n",
       "      <td>k403</td>\n",
       "      <td>Ramicane</td>\n",
       "      <td>Male</td>\n",
       "      <td>21</td>\n",
       "      <td>16</td>\n",
       "      <td>0</td>\n",
       "      <td>45.000000</td>\n",
       "      <td>0</td>\n",
       "    </tr>\n",
       "    <tr>\n",
       "      <th>1</th>\n",
       "      <td>k403</td>\n",
       "      <td>Ramicane</td>\n",
       "      <td>Male</td>\n",
       "      <td>21</td>\n",
       "      <td>16</td>\n",
       "      <td>5</td>\n",
       "      <td>38.825898</td>\n",
       "      <td>0</td>\n",
       "    </tr>\n",
       "    <tr>\n",
       "      <th>2</th>\n",
       "      <td>k403</td>\n",
       "      <td>Ramicane</td>\n",
       "      <td>Male</td>\n",
       "      <td>21</td>\n",
       "      <td>16</td>\n",
       "      <td>10</td>\n",
       "      <td>35.014271</td>\n",
       "      <td>1</td>\n",
       "    </tr>\n",
       "    <tr>\n",
       "      <th>3</th>\n",
       "      <td>k403</td>\n",
       "      <td>Ramicane</td>\n",
       "      <td>Male</td>\n",
       "      <td>21</td>\n",
       "      <td>16</td>\n",
       "      <td>15</td>\n",
       "      <td>34.223992</td>\n",
       "      <td>1</td>\n",
       "    </tr>\n",
       "    <tr>\n",
       "      <th>4</th>\n",
       "      <td>k403</td>\n",
       "      <td>Ramicane</td>\n",
       "      <td>Male</td>\n",
       "      <td>21</td>\n",
       "      <td>16</td>\n",
       "      <td>20</td>\n",
       "      <td>32.997729</td>\n",
       "      <td>1</td>\n",
       "    </tr>\n",
       "    <tr>\n",
       "      <th>5</th>\n",
       "      <td>k403</td>\n",
       "      <td>Ramicane</td>\n",
       "      <td>Male</td>\n",
       "      <td>21</td>\n",
       "      <td>16</td>\n",
       "      <td>25</td>\n",
       "      <td>33.464577</td>\n",
       "      <td>1</td>\n",
       "    </tr>\n",
       "    <tr>\n",
       "      <th>6</th>\n",
       "      <td>k403</td>\n",
       "      <td>Ramicane</td>\n",
       "      <td>Male</td>\n",
       "      <td>21</td>\n",
       "      <td>16</td>\n",
       "      <td>30</td>\n",
       "      <td>31.099498</td>\n",
       "      <td>1</td>\n",
       "    </tr>\n",
       "    <tr>\n",
       "      <th>7</th>\n",
       "      <td>k403</td>\n",
       "      <td>Ramicane</td>\n",
       "      <td>Male</td>\n",
       "      <td>21</td>\n",
       "      <td>16</td>\n",
       "      <td>35</td>\n",
       "      <td>26.546993</td>\n",
       "      <td>1</td>\n",
       "    </tr>\n",
       "    <tr>\n",
       "      <th>8</th>\n",
       "      <td>k403</td>\n",
       "      <td>Ramicane</td>\n",
       "      <td>Male</td>\n",
       "      <td>21</td>\n",
       "      <td>16</td>\n",
       "      <td>40</td>\n",
       "      <td>24.365505</td>\n",
       "      <td>1</td>\n",
       "    </tr>\n",
       "    <tr>\n",
       "      <th>9</th>\n",
       "      <td>k403</td>\n",
       "      <td>Ramicane</td>\n",
       "      <td>Male</td>\n",
       "      <td>21</td>\n",
       "      <td>16</td>\n",
       "      <td>45</td>\n",
       "      <td>22.050126</td>\n",
       "      <td>1</td>\n",
       "    </tr>\n",
       "    <tr>\n",
       "      <th>10</th>\n",
       "      <td>s185</td>\n",
       "      <td>Capomulin</td>\n",
       "      <td>Female</td>\n",
       "      <td>3</td>\n",
       "      <td>17</td>\n",
       "      <td>0</td>\n",
       "      <td>45.000000</td>\n",
       "      <td>0</td>\n",
       "    </tr>\n",
       "    <tr>\n",
       "      <th>11</th>\n",
       "      <td>s185</td>\n",
       "      <td>Capomulin</td>\n",
       "      <td>Female</td>\n",
       "      <td>3</td>\n",
       "      <td>17</td>\n",
       "      <td>5</td>\n",
       "      <td>43.878496</td>\n",
       "      <td>0</td>\n",
       "    </tr>\n",
       "    <tr>\n",
       "      <th>12</th>\n",
       "      <td>s185</td>\n",
       "      <td>Capomulin</td>\n",
       "      <td>Female</td>\n",
       "      <td>3</td>\n",
       "      <td>17</td>\n",
       "      <td>10</td>\n",
       "      <td>37.614948</td>\n",
       "      <td>0</td>\n",
       "    </tr>\n",
       "    <tr>\n",
       "      <th>13</th>\n",
       "      <td>s185</td>\n",
       "      <td>Capomulin</td>\n",
       "      <td>Female</td>\n",
       "      <td>3</td>\n",
       "      <td>17</td>\n",
       "      <td>15</td>\n",
       "      <td>38.177232</td>\n",
       "      <td>0</td>\n",
       "    </tr>\n",
       "    <tr>\n",
       "      <th>14</th>\n",
       "      <td>s185</td>\n",
       "      <td>Capomulin</td>\n",
       "      <td>Female</td>\n",
       "      <td>3</td>\n",
       "      <td>17</td>\n",
       "      <td>20</td>\n",
       "      <td>36.866876</td>\n",
       "      <td>0</td>\n",
       "    </tr>\n",
       "    <tr>\n",
       "      <th>15</th>\n",
       "      <td>s185</td>\n",
       "      <td>Capomulin</td>\n",
       "      <td>Female</td>\n",
       "      <td>3</td>\n",
       "      <td>17</td>\n",
       "      <td>25</td>\n",
       "      <td>33.949940</td>\n",
       "      <td>0</td>\n",
       "    </tr>\n",
       "    <tr>\n",
       "      <th>16</th>\n",
       "      <td>s185</td>\n",
       "      <td>Capomulin</td>\n",
       "      <td>Female</td>\n",
       "      <td>3</td>\n",
       "      <td>17</td>\n",
       "      <td>30</td>\n",
       "      <td>32.959671</td>\n",
       "      <td>1</td>\n",
       "    </tr>\n",
       "    <tr>\n",
       "      <th>17</th>\n",
       "      <td>s185</td>\n",
       "      <td>Capomulin</td>\n",
       "      <td>Female</td>\n",
       "      <td>3</td>\n",
       "      <td>17</td>\n",
       "      <td>35</td>\n",
       "      <td>28.328531</td>\n",
       "      <td>1</td>\n",
       "    </tr>\n",
       "    <tr>\n",
       "      <th>18</th>\n",
       "      <td>s185</td>\n",
       "      <td>Capomulin</td>\n",
       "      <td>Female</td>\n",
       "      <td>3</td>\n",
       "      <td>17</td>\n",
       "      <td>40</td>\n",
       "      <td>25.472143</td>\n",
       "      <td>1</td>\n",
       "    </tr>\n",
       "    <tr>\n",
       "      <th>19</th>\n",
       "      <td>s185</td>\n",
       "      <td>Capomulin</td>\n",
       "      <td>Female</td>\n",
       "      <td>3</td>\n",
       "      <td>17</td>\n",
       "      <td>45</td>\n",
       "      <td>23.343598</td>\n",
       "      <td>1</td>\n",
       "    </tr>\n",
       "  </tbody>\n",
       "</table>\n",
       "</div>"
      ],
      "text/plain": [
       "   Mouse ID Drug Regimen     Sex  Age_months  Weight (g)  Timepoint  \\\n",
       "0      k403     Ramicane    Male          21          16          0   \n",
       "1      k403     Ramicane    Male          21          16          5   \n",
       "2      k403     Ramicane    Male          21          16         10   \n",
       "3      k403     Ramicane    Male          21          16         15   \n",
       "4      k403     Ramicane    Male          21          16         20   \n",
       "5      k403     Ramicane    Male          21          16         25   \n",
       "6      k403     Ramicane    Male          21          16         30   \n",
       "7      k403     Ramicane    Male          21          16         35   \n",
       "8      k403     Ramicane    Male          21          16         40   \n",
       "9      k403     Ramicane    Male          21          16         45   \n",
       "10     s185    Capomulin  Female           3          17          0   \n",
       "11     s185    Capomulin  Female           3          17          5   \n",
       "12     s185    Capomulin  Female           3          17         10   \n",
       "13     s185    Capomulin  Female           3          17         15   \n",
       "14     s185    Capomulin  Female           3          17         20   \n",
       "15     s185    Capomulin  Female           3          17         25   \n",
       "16     s185    Capomulin  Female           3          17         30   \n",
       "17     s185    Capomulin  Female           3          17         35   \n",
       "18     s185    Capomulin  Female           3          17         40   \n",
       "19     s185    Capomulin  Female           3          17         45   \n",
       "\n",
       "    Tumor Volume (mm3)  Metastatic Sites  \n",
       "0            45.000000                 0  \n",
       "1            38.825898                 0  \n",
       "2            35.014271                 1  \n",
       "3            34.223992                 1  \n",
       "4            32.997729                 1  \n",
       "5            33.464577                 1  \n",
       "6            31.099498                 1  \n",
       "7            26.546993                 1  \n",
       "8            24.365505                 1  \n",
       "9            22.050126                 1  \n",
       "10           45.000000                 0  \n",
       "11           43.878496                 0  \n",
       "12           37.614948                 0  \n",
       "13           38.177232                 0  \n",
       "14           36.866876                 0  \n",
       "15           33.949940                 0  \n",
       "16           32.959671                 1  \n",
       "17           28.328531                 1  \n",
       "18           25.472143                 1  \n",
       "19           23.343598                 1  "
      ]
     },
     "execution_count": 103,
     "metadata": {},
     "output_type": "execute_result"
    }
   ],
   "source": [
    "merge.head(20)"
   ]
  },
  {
   "cell_type": "code",
   "execution_count": 94,
   "metadata": {},
   "outputs": [
    {
     "data": {
      "text/html": [
       "<div>\n",
       "<style scoped>\n",
       "    .dataframe tbody tr th:only-of-type {\n",
       "        vertical-align: middle;\n",
       "    }\n",
       "\n",
       "    .dataframe tbody tr th {\n",
       "        vertical-align: top;\n",
       "    }\n",
       "\n",
       "    .dataframe thead th {\n",
       "        text-align: right;\n",
       "    }\n",
       "</style>\n",
       "<table border=\"1\" class=\"dataframe\">\n",
       "  <thead>\n",
       "    <tr style=\"text-align: right;\">\n",
       "      <th></th>\n",
       "      <th>Mean</th>\n",
       "      <th>Median</th>\n",
       "      <th>Variance</th>\n",
       "      <th>Standard Deviation</th>\n",
       "      <th>SEM</th>\n",
       "    </tr>\n",
       "    <tr>\n",
       "      <th>Drug Regimen</th>\n",
       "      <th></th>\n",
       "      <th></th>\n",
       "      <th></th>\n",
       "      <th></th>\n",
       "      <th></th>\n",
       "    </tr>\n",
       "  </thead>\n",
       "  <tbody>\n",
       "    <tr>\n",
       "      <th>Capomulin</th>\n",
       "      <td>40.675741</td>\n",
       "      <td>41.557809</td>\n",
       "      <td>24.947764</td>\n",
       "      <td>4.994774</td>\n",
       "      <td>0.329346</td>\n",
       "    </tr>\n",
       "    <tr>\n",
       "      <th>Ceftamin</th>\n",
       "      <td>52.591172</td>\n",
       "      <td>51.776157</td>\n",
       "      <td>39.290177</td>\n",
       "      <td>6.268188</td>\n",
       "      <td>0.469821</td>\n",
       "    </tr>\n",
       "    <tr>\n",
       "      <th>Infubinol</th>\n",
       "      <td>52.884795</td>\n",
       "      <td>51.820584</td>\n",
       "      <td>43.128684</td>\n",
       "      <td>6.567243</td>\n",
       "      <td>0.492236</td>\n",
       "    </tr>\n",
       "    <tr>\n",
       "      <th>Ketapril</th>\n",
       "      <td>55.235638</td>\n",
       "      <td>53.698743</td>\n",
       "      <td>68.553577</td>\n",
       "      <td>8.279709</td>\n",
       "      <td>0.603860</td>\n",
       "    </tr>\n",
       "    <tr>\n",
       "      <th>Naftisol</th>\n",
       "      <td>54.331565</td>\n",
       "      <td>52.509285</td>\n",
       "      <td>66.173479</td>\n",
       "      <td>8.134708</td>\n",
       "      <td>0.596466</td>\n",
       "    </tr>\n",
       "    <tr>\n",
       "      <th>Placebo</th>\n",
       "      <td>54.033581</td>\n",
       "      <td>52.288934</td>\n",
       "      <td>61.168083</td>\n",
       "      <td>7.821003</td>\n",
       "      <td>0.581331</td>\n",
       "    </tr>\n",
       "    <tr>\n",
       "      <th>Propriva</th>\n",
       "      <td>52.322552</td>\n",
       "      <td>50.854632</td>\n",
       "      <td>42.351070</td>\n",
       "      <td>6.507770</td>\n",
       "      <td>0.512884</td>\n",
       "    </tr>\n",
       "    <tr>\n",
       "      <th>Ramicane</th>\n",
       "      <td>40.216745</td>\n",
       "      <td>40.673236</td>\n",
       "      <td>23.486704</td>\n",
       "      <td>4.846308</td>\n",
       "      <td>0.320955</td>\n",
       "    </tr>\n",
       "    <tr>\n",
       "      <th>Stelasyn</th>\n",
       "      <td>54.233149</td>\n",
       "      <td>52.431737</td>\n",
       "      <td>59.450562</td>\n",
       "      <td>7.710419</td>\n",
       "      <td>0.573111</td>\n",
       "    </tr>\n",
       "    <tr>\n",
       "      <th>Zoniferol</th>\n",
       "      <td>53.236507</td>\n",
       "      <td>51.818479</td>\n",
       "      <td>48.533355</td>\n",
       "      <td>6.966589</td>\n",
       "      <td>0.516398</td>\n",
       "    </tr>\n",
       "  </tbody>\n",
       "</table>\n",
       "</div>"
      ],
      "text/plain": [
       "                   Mean     Median   Variance  Standard Deviation       SEM\n",
       "Drug Regimen                                                               \n",
       "Capomulin     40.675741  41.557809  24.947764            4.994774  0.329346\n",
       "Ceftamin      52.591172  51.776157  39.290177            6.268188  0.469821\n",
       "Infubinol     52.884795  51.820584  43.128684            6.567243  0.492236\n",
       "Ketapril      55.235638  53.698743  68.553577            8.279709  0.603860\n",
       "Naftisol      54.331565  52.509285  66.173479            8.134708  0.596466\n",
       "Placebo       54.033581  52.288934  61.168083            7.821003  0.581331\n",
       "Propriva      52.322552  50.854632  42.351070            6.507770  0.512884\n",
       "Ramicane      40.216745  40.673236  23.486704            4.846308  0.320955\n",
       "Stelasyn      54.233149  52.431737  59.450562            7.710419  0.573111\n",
       "Zoniferol     53.236507  51.818479  48.533355            6.966589  0.516398"
      ]
     },
     "execution_count": 94,
     "metadata": {},
     "output_type": "execute_result"
    }
   ],
   "source": [
    "# Generate a summary statistics table of mean, median, variance, standard deviation, and SEM of the tumor volume for each regimen\n",
    "merge = pd.merge(mouse_metadata, study_results, on=\"Mouse ID\")\n",
    "regimens = merge.groupby([\"Drug Regimen\"])\n",
    "tumorVolumes = regimens['Tumor Volume (mm3)']\n",
    "mouseIDs = regimens['Mouse ID']\n",
    "#use groupby to generate summary stats\n",
    "summarydf = pd.DataFrame({\n",
    "    'Mean': tumorVolumes.mean(),\n",
    "    'Median': tumorVolumes.median(),\n",
    "    'Variance': tumorVolumes.var(),\n",
    "    'Standard Deviation': tumorVolumes.std(),\n",
    "    'SEM': tumorVolumes.sem()\n",
    "})\n",
    "summarydf"
   ]
  },
  {
   "cell_type": "markdown",
   "metadata": {},
   "source": [
    "## Bar plots"
   ]
  },
  {
   "cell_type": "code",
   "execution_count": 98,
   "metadata": {},
   "outputs": [
    {
     "data": {
      "image/png": "[encoded data removed]",
      "text/plain": [
       "<Figure size 432x288 with 1 Axes>"
      ]
     },
     "metadata": {
      "needs_background": "light"
     },
     "output_type": "display_data"
    }
   ],
   "source": [
    "# Generate a bar plot showing number of data points for each treatment regimen using pandas\n",
    "counts = tumorVolumes.count()\n",
    "fig, ax = plt.subplots()\n",
    "counts.plot(kind=\"bar\", x=\"Drug Regimen\", y=\"Tumor Volume (mm3)\", ax=ax)\n",
    "plt.ylabel(\"Count\")\n",
    "plt.title(\"Drug Regimen Counts\")\n",
    "plt.show()"
   ]
  },
  {
   "cell_type": "code",
   "execution_count": 62,
   "metadata": {},
   "outputs": [
    {
     "data": {
      "image/png": "[encoded data removed]",
      "text/plain": [
       "<Figure size 432x288 with 1 Axes>"
      ]
     },
     "metadata": {
      "needs_background": "light"
     },
     "output_type": "display_data"
    }
   ],
   "source": [
    "# Generate a bar plot showing number of data points for each treatment regimen using pyplot\n",
    "x_axis = np.arange(len(counts))\n",
    "y_axis = [count for count in counts]\n",
    "plt.bar(x_axis, y_axis)\n",
    "tick_locations = [value for value in x_axis]\n",
    "plt.xticks(tick_locations, [value for value in counts.index])\n",
    "plt.xticks(rotation=90)\n",
    "plt.xlabel(\"Drug Regimen\")\n",
    "plt.ylabel(\"Count\")\n",
    "plt.title(\"Drug Regimen Counts\")\n",
    "plt.show()"
   ]
  },
  {
   "cell_type": "markdown",
   "metadata": {},
   "source": [
    "## Pie plots"
   ]
  },
  {
   "cell_type": "code",
   "execution_count": 216,
   "metadata": {},
   "outputs": [
    {
     "data": {
      "image/png": "[encoded data removed]",
      "text/plain": [
       "<Figure size 432x288 with 1 Axes>"
      ]
     },
     "metadata": {},
     "output_type": "display_data"
    }
   ],
   "source": [
    "# Generate a pie plot showing the distribution of female versus male mice using pandas\n",
    "sexgroup = merge.groupby([\"Sex\"])\n",
    "sexCounts = pd.DataFrame({\"Count\":sexgroup['Mouse ID'].nunique()})\n",
    "fig, ax = plt.subplots()\n",
    "sexCounts.plot.pie(y=\"Count\", explode=None, labels=[value for value in sexCounts.index],\n",
    "           autopct=\"%1.1f%%\", shadow=True, ax=ax)\n",
    "ax.set_ylabel(\"\")\n",
    "plt.title(\"Mice Sex Breakdown\")\n",
    "plt.show()"
   ]
  },
  {
   "cell_type": "code",
   "execution_count": 218,
   "metadata": {},
   "outputs": [
    {
     "data": {
      "image/png": "[encoded data removed]",
      "text/plain": [
       "<Figure size 432x288 with 1 Axes>"
      ]
     },
     "metadata": {},
     "output_type": "display_data"
    }
   ],
   "source": [
    "# Generate a pie plot showing the distribution of female versus male mice using pyplot\n",
    "fig, ax = plt.subplots()\n",
    "y_axis = [value for value in sexCounts['Count']]\n",
    "plt.pie(y_axis, explode=None, labels=sexCounts.index,\n",
    "        autopct=\"%1.1f%%\", shadow=True)\n",
    "ax.set_ylabel(\"\")\n",
    "plt.title(\"Mice Sex Breakdown\")\n",
    "plt.legend()\n",
    "plt.show()"
   ]
  },
  {
   "cell_type": "markdown",
   "metadata": {},
   "source": [
    "## Quartiles, outliers and boxplots"
   ]
  },
  {
   "cell_type": "code",
   "execution_count": 259,
   "metadata": {},
   "outputs": [
    {
     "name": "stdout",
     "output_type": "stream",
     "text": [
      "The lower quartile of tumor volume for Capomulin mice is: 32.38\n",
      "The upper quartile of tumor volume for Capomulin mice is: 40.16\n",
      "The interquartile range of tumor volume for Capomulin mice is: 7.78\n",
      "The the median of tumor volume for Capomulin mice is: 38.125164399999996\n",
      "Values below 20.71 could be outliers.\n",
      "Values above 51.83 could be outliers.\n",
      "There are 0 outliers among Capomulin mice.\n",
      "The lower quartile of tumor volume for Ramicane mice is: 31.56\n",
      "The upper quartile of tumor volume for Ramicane mice is: 40.66\n",
      "The interquartile range of tumor volume for Ramicane mice is: 9.1\n",
      "The the median of tumor volume for Ramicane mice is: 36.56165229\n",
      "Values below 17.91 could be outliers.\n",
      "Values above 54.309999999999995 could be outliers.\n",
      "There are 0 outliers among Ramicane mice.\n",
      "The lower quartile of tumor volume for Infubinol mice is: 54.05\n",
      "The upper quartile of tumor volume for Infubinol mice is: 65.53\n",
      "The interquartile range of tumor volume for Infubinol mice is: 11.48\n",
      "The the median of tumor volume for Infubinol mice is: 60.16518046\n",
      "Values below 36.83 could be outliers.\n",
      "Values above 82.75 could be outliers.\n",
      "There are 1 outliers among Infubinol mice.\n",
      "The lower quartile of tumor volume for Ceftamin mice is: 48.72\n",
      "The upper quartile of tumor volume for Ceftamin mice is: 64.3\n",
      "The interquartile range of tumor volume for Ceftamin mice is: 15.58\n",
      "The the median of tumor volume for Ceftamin mice is: 59.85195552\n",
      "Values below 25.349999999999998 could be outliers.\n",
      "Values above 87.67 could be outliers.\n",
      "There are 0 outliers among Ceftamin mice.\n"
     ]
    }
   ],
   "source": [
    "# Calculate the final tumor volume of each mouse across four of the most promising treatment regimens. Calculate the IQR and quantitatively determine if there are any potential outliers. \n",
    "\n",
    "#finding final tumor volumes\n",
    "bestFour = [\"Capomulin\",\"Ramicane\",\"Infubinol\",\"Ceftamin\"]\n",
    "bestFourDf = merge.loc[merge[\"Drug Regimen\"].isin(bestFour), :]\n",
    "mouseBestFour = bestFourDf.groupby([\"Mouse ID\"])\n",
    "finalTumorVolume = pd.DataFrame({\n",
    "    \"Drug Regimen\": mouseBestFour[\"Drug Regimen\"].max(),\n",
    "    \"Timepoint\": mouseBestFour[\"Timepoint\"].max()\n",
    "})\n",
    "finalVolumes = []\n",
    "for index in finalTumorVolume.index:\n",
    "    location = bestFourDf.loc[(bestFourDf['Mouse ID'] == index) & (bestFourDf['Timepoint'] == finalTumorVolume.loc[index]['Timepoint'])]\n",
    "    finalVolumes.append(location[\"Tumor Volume (mm3)\"].max())\n",
    "finalTumorVolume[\"Tumor Volume (mm3)\"] = pd.Series(finalVolumes,index=finalTumorVolume.index)\n",
    "\n",
    "#find IQR and outlier information for each of the four regimens\n",
    "for drug in bestFour:\n",
    "    partialDf = finalTumorVolume.loc[finalTumorVolume['Drug Regimen'] == drug]\n",
    "    volumes = partialDf[\"Tumor Volume (mm3)\"]\n",
    "    quartiles = volumes.quantile([.25,.5,.75])\n",
    "    lowerq = round(quartiles[0.25],2)\n",
    "    upperq = round(quartiles[0.75],2)\n",
    "    iqr = round(upperq-lowerq,2)\n",
    "\n",
    "    print(f\"The lower quartile of tumor volume for {drug} mice is: {lowerq}\")\n",
    "    print(f\"The upper quartile of tumor volume for {drug} mice is: {upperq}\")\n",
    "    print(f\"The interquartile range of tumor volume for {drug} mice is: {iqr}\")\n",
    "    print(f\"The the median of tumor volume for {drug} mice is: {quartiles[0.5]}\")\n",
    "\n",
    "    lower_bound = lowerq - (1.5*iqr)\n",
    "    upper_bound = upperq + (1.5*iqr)\n",
    "    print(f\"Values below {lower_bound} could be outliers.\")\n",
    "    print(f\"Values above {upper_bound} could be outliers.\")\n",
    "    \n",
    "    #calculate outliers\n",
    "    outlierDf = partialDf.loc[(partialDf['Tumor Volume (mm3)'] > upper_bound) | (partialDf['Tumor Volume (mm3)'] < lower_bound)]\n",
    "    numOutliers = len(outlierDf)\n",
    "    print(f\"There are {numOutliers} outliers among {drug} mice.\")"
   ]
  },
  {
   "cell_type": "code",
   "execution_count": 237,
   "metadata": {},
   "outputs": [
    {
     "data": {
      "image/png": "[encoded data removed]",
      "text/plain": [
       "<Figure size 432x288 with 1 Axes>"
      ]
     },
     "metadata": {
      "needs_background": "light"
     },
     "output_type": "display_data"
    }
   ],
   "source": [
    "# Generate a box plot of the final tumor volume of each mouse across four regimens of interest\n",
    "fig1, ax1 = plt.subplots()\n",
    "ax1.set_title('Final Tumor Volumes for Four Best Regimens')\n",
    "ax1.set_ylabel('Tumor Volume')\n",
    "ax1.set_xlabel('Drug Regimen')\n",
    "red_diamond = dict(markerfacecolor='r', marker='D')\n",
    "volList = []\n",
    "for drug in bestFour:\n",
    "    partialDf = finalTumorVolume.loc[finalTumorVolume['Drug Regimen'] == drug]\n",
    "    volumes = partialDf[\"Tumor Volume (mm3)\"]\n",
    "    volList.append(volumes)\n",
    "ax1.boxplot(volList, labels=bestFour, flierprops=red_diamond)\n",
    "plt.show()"
   ]
  },
  {
   "cell_type": "markdown",
   "metadata": {},
   "source": [
    "## Line and scatter plots"
   ]
  },
  {
   "cell_type": "code",
   "execution_count": 251,
   "metadata": {},
   "outputs": [
    {
     "data": {
      "image/png": "[encoded data removed]",
      "text/plain": [
       "<Figure size 432x288 with 1 Axes>"
      ]
     },
     "metadata": {
      "needs_background": "light"
     },
     "output_type": "display_data"
    }
   ],
   "source": [
    "# Generate a line plot of time point versus tumor volume for a mouse treated with Capomulin\n",
    "capDf = merge.loc[merge['Drug Regimen'] == \"Capomulin\"]\n",
    "#Just took one with max\n",
    "mouse = capDf['Mouse ID'].max()\n",
    "mouseDf = capDf.loc[capDf['Mouse ID'] == mouse]\n",
    "x_axis = mouseDf['Timepoint']\n",
    "y_axis = mouseDf['Tumor Volume (mm3)']\n",
    "plt.plot(x_axis, y_axis)\n",
    "plt.title(f\"Tumor Volume Over Time for Mouse {mouse}\")\n",
    "plt.xlabel(\"Time in Days\")\n",
    "plt.ylabel(\"Tumor Volume (mm3)\")\n",
    "plt.show()"
   ]
  },
  {
   "cell_type": "code",
   "execution_count": 260,
   "metadata": {},
   "outputs": [
    {
     "data": {
      "image/png": "[encoded data removed]",
      "text/plain": [
       "<Figure size 432x288 with 1 Axes>"
      ]
     },
     "metadata": {
      "needs_background": "light"
     },
     "output_type": "display_data"
    }
   ],
   "source": [
    "# Generate a scatter plot of mouse weight versus average tumor volume for the Capomulin regimen\n",
    "mouseGroup = capDf.groupby([\"Mouse ID\"])\n",
    "mouseDf = pd.DataFrame({\n",
    "    'Mouse Weight': mouseGroup['Weight (g)'].max(),\n",
    "    'Average Tumor Volume': mouseGroup['Tumor Volume (mm3)'].mean()\n",
    "})\n",
    "x_values = mouseDf['Mouse Weight']\n",
    "y_values = mouseDf['Average Tumor Volume']\n",
    "plt.scatter(x_values, y_values)\n",
    "plt.xlabel('Weight')\n",
    "plt.ylabel('Avg Tumor Volume (mm3)')\n",
    "plt.title('Mouse Weight v. Average Tumor Volume')\n",
    "plt.show()"
   ]
  },
  {
   "cell_type": "code",
   "execution_count": 271,
   "metadata": {},
   "outputs": [
    {
     "data": {
      "image/png": "[encoded data removed]",
      "text/plain": [
       "<Figure size 432x288 with 1 Axes>"
      ]
     },
     "metadata": {
      "needs_background": "light"
     },
     "output_type": "display_data"
    },
    {
     "name": "stdout",
     "output_type": "stream",
     "text": [
      "The correlation coefficient is 0.84.\n"
     ]
    }
   ],
   "source": [
    "# Calculate the correlation coefficient and linear regression model for mouse weight and average tumor volume for the Capomulin regimen\n",
    "(slope, intercept, rvalue, pvalue, stderr) = st.linregress(x_values, y_values)\n",
    "regress_values = x_values * slope + intercept\n",
    "line_eq = \"y = \" + str(round(slope,2)) + \"x + \" + str(round(intercept,2))\n",
    "plt.scatter(x_values,y_values)\n",
    "plt.xlabel('Weight')\n",
    "plt.ylabel('Avg Tumor Volume (mm3)')\n",
    "plt.title('Mouse Weight v. Average Tumor Volume')\n",
    "plt.plot(x_values,regress_values,\"r\")\n",
    "plt.annotate(line_eq, (22,40), fontsize=10, color=\"red\")\n",
    "plt.show()\n",
    "print(f\"The correlation coefficient is {round(rvalue,2)}.\")"
   ]
  },
  {
   "cell_type": "code",
   "execution_count": null,
   "metadata": {},
   "outputs": [],
   "source": []
  }
 ],
 "metadata": {
  "anaconda-cloud": {},
  "kernelspec": {
   "display_name": "Python 3",
   "language": "python",
   "name": "python3"
  },
  "language_info": {
   "codemirror_mode": {
    "name": "ipython",
    "version": 3
   },
   "file_extension": ".py",
   "mimetype": "text/x-python",
   "name": "python",
   "nbconvert_exporter": "python",
   "pygments_lexer": "ipython3",
   "version": "3.6.10"
  }
 },
 "nbformat": 4,
 "nbformat_minor": 2
}
